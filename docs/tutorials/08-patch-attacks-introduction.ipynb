{
  "cells": [
    {
      "cell_type": "markdown",
      "metadata": {
        "id": "utW3XU3QyzDd"
      },
      "source": [
        "# Adversarial Patch Attacks\n",
        "\n",
        "In this notebook we will experiment with **adversarial patch attacks**, against a pre-trained model from robustbench. Exploring how the patch can be easely constructed using secml-torch."
      ]
    },
    {
      "cell_type": "code",
      "execution_count": 4,
      "metadata": {
        "id": "pPqvRXI1yoqc"
      },
      "outputs": [],
      "source": [
        "%%capture\n",
        "try:\n",
        "    import secmlt\n",
        "except ImportError:\n",
        "   %pip install secml-torch[foolbox,adv_lib]\n",
        "\n",
        "try:\n",
        "  import robustbench\n",
        "except ImportError:\n",
        "   %pip install robustbench\n",
        "   %pip install git+https://github.com/fra31/auto-attack"
      ]
    },
    {
      "cell_type": "code",
      "execution_count": 5,
      "metadata": {
        "id": "w22ES2eEtJZm"
      },
      "outputs": [],
      "source": [
        "%%capture\n",
        "import torch\n",
        "import torchvision.datasets\n",
        "from robustbench.utils import load_model\n",
        "from secmlt.metrics.classification import Accuracy\n",
        "from secmlt.models.pytorch.base_pytorch_nn import BasePytorchClassifier\n",
        "from torch.utils.data import DataLoader, Subset"
      ]
    },
    {
      "cell_type": "markdown",
      "metadata": {
        "id": "0is8gthglWlk"
      },
      "source": [
        "#### Loading Pre-trained Model and Dataset"
      ]
    },
    {
      "cell_type": "code",
      "execution_count": 11,
      "metadata": {
        "id": "P2H_utgbtsh1"
      },
      "outputs": [],
      "source": [
        "%%capture\n",
        "device = 'cuda' if torch.cuda.is_available() else 'cpu'\n",
        "\n",
        "net = load_model(model_name=\"Rony2019Decoupling\", dataset=\"cifar10\", threat_model=\"L2\")\n",
        "net.to(device).eval()\n",
        "\n",
        "num_samples, batch_size = 100, 5\n",
        "test_ds = Subset(\n",
        "    torchvision.datasets.CIFAR10(root=\".\", train=False, download=True, transform=torchvision.transforms.ToTensor()),\n",
        "    list(range(num_samples))\n",
        ")\n",
        "test_loader = DataLoader(test_ds, batch_size=batch_size, shuffle=False, drop_last=True)\n",
        "\n",
        "cifar10_labels = {\n",
        "    0: \"airplane\", 1: \"automobile\", 2: \"bird\", 3: \"cat\", 4: \"deer\",\n",
        "    5: \"dog\", 6: \"frog\", 7: \"horse\", 8: \"ship\", 9: \"truck\"\n",
        "}\n",
        "\n",
        "clf = BasePytorchClassifier(net)\n",
        "\n"
      ]
    },
    {
      "cell_type": "markdown",
      "metadata": {
        "id": "jHErKhGlbO-n"
      },
      "source": [
        "#### Adversarial Patch Attack Construcion"
      ]
    },
    {
      "cell_type": "code",
      "execution_count": 8,
      "metadata": {
        "id": "LOLrteMIqgQr"
      },
      "outputs": [],
      "source": [
        "from secmlt.adv.backends import Backends\n",
        "from secmlt.adv.evasion.perturbation_models import LpPerturbationModels\n",
        "from secmlt.adv.evasion.pgd import PGD\n",
        "from secmlt.optimization.constraints import MaskConstraint"
      ]
    },
    {
      "cell_type": "code",
      "execution_count": null,
      "metadata": {
        "colab": {
          "base_uri": "https://localhost:8080/"
        },
        "id": "bYEtgbsM-qdL",
        "outputId": "eaf48d0a-e53c-467c-85b5-2fd1741c5bd3"
      },
      "outputs": [
        {
          "name": "stdout",
          "output_type": "stream",
          "text": [
            "Clean Accurcy.        : 0.910\n",
            "Robust Accurcy.       : 0.880\n",
            "Drop accuracy         : 0.030\n"
          ]
        }
      ],
      "source": [
        "eps, steps, step_size = 10, 100, 1e-2\n",
        "pgd = PGD(\n",
        "    perturbation_model=LpPerturbationModels.L2,\n",
        "    epsilon=eps,\n",
        "    num_steps=steps,\n",
        "    step_size=step_size,\n",
        "    random_start=True,\n",
        "    backend=Backends.NATIVE,\n",
        "    lb=0.0, ub=1.0\n",
        ")\n",
        "\n",
        "# --- Patch construction ---\n",
        "x_batch, _ = next(iter(test_loader))\n",
        "B, C, H, W = x_batch.shape\n",
        "k, top, left = 8, 8, 8  # patch 8x8\n",
        "mask = torch.zeros(B, C, H, W, device=x_batch.device)\n",
        "mask[:, :, top:top+k, left:left+k] = 1.0\n",
        "\n",
        "pgd.manipulation_function.perturbation_constraints.append(MaskConstraint(mask))\n",
        "\n",
        "acc_clean = Accuracy()(clf, test_loader)\n",
        "adv_loader = pgd(clf, test_loader)\n",
        "acc_adv   = Accuracy()(clf, adv_loader)\n",
        "\n",
        "print(f\"Clean Accurcy.        : {acc_clean:.3f}\")\n",
        "print(f\"Robust Accurcy.       : {acc_adv:.3f}\")\n",
        "print(f\"Drop accuracy         : {acc_clean - acc_adv:.3f}\")"
      ]
    },
    {
      "cell_type": "markdown",
      "metadata": {
        "id": "D2zlrAt_Zd_p"
      },
      "source": [
        "#### Adversarial Patch Viasualization"
      ]
    },
    {
      "cell_type": "code",
      "execution_count": 16,
      "metadata": {
        "colab": {
          "base_uri": "https://localhost:8080/",
          "height": 308
        },
        "id": "rRLG_o3yWU0V",
        "outputId": "2d9c3dc5-2558-49ca-836e-c7dcfb495de3"
      },
      "outputs": [
        {
          "data": {
            "image/png": "[encoded data removed]",
            "text/plain": [
              "<Figure size 1000x300 with 3 Axes>"
            ]
          },
          "metadata": {},
          "output_type": "display_data"
        }
      ],
      "source": [
        "import matplotlib.pyplot as plt\n",
        "import numpy as np\n",
        "\n",
        "# --- grab the same sample from clean and adversarial loaders ---\n",
        "x_clean_b, y_clean_b = next(iter(test_loader))\n",
        "x_adv_b,   y_adv_b   = next(iter(adv_loader))\n",
        "\n",
        "idx = 4  # show the 4th sample in the batch\n",
        "x_clean = x_clean_b[idx].detach().cpu()  # [C,H,W]\n",
        "x_adv   = x_adv_b[idx].detach().cpu()    # [C,H,W]\n",
        "\n",
        "# --- predicted labels for titles ---\n",
        "device = next(net.parameters()).device\n",
        "with torch.no_grad():\n",
        "    pred_clean = int(net(x_clean.unsqueeze(0).to(device)).argmax(dim=1).item())\n",
        "    pred_adv   = int(net(x_adv.unsqueeze(0).to(device)).argmax(dim=1).item())\n",
        "label_clean = f\"{cifar10_labels[pred_clean]} (clean)\"\n",
        "label_adv   = f\"{cifar10_labels[pred_adv]} (adv)\"\n",
        "\n",
        "# --- patch coordinates  ---\n",
        "# k, top, left = 8, 8, 8  # e.g., 8x8 patch at (top=8, left=8)\n",
        "\n",
        "# --- build the patch-only perturbation visualization on a WHITE background ---\n",
        "C, H, W = x_clean.shape\n",
        "delta = (x_adv - x_clean)  # [C,H,W]\n",
        "\n",
        "# normalize ONLY inside the patch\n",
        "patch = delta[:, top:top+k, left:left+k]  # [C,k,k]\n",
        "dmin, dmax = float(patch.min()), float(patch.max())\n",
        "patch_norm = (patch - dmin) / (dmax - dmin + 1e-8)      # [C,k,k] in [0,1]\n",
        "\n",
        "# white background + paste normalized patch\n",
        "patch_viz = np.zeros((H, W, 3), dtype=np.float32)        # white\n",
        "patch_viz[top:top+k, left:left+k, :] = patch_norm.permute(1, 2, 0).numpy()\n",
        "\n",
        "# convert clean/adv to HxWxC np arrays for imshow\n",
        "clean_img = x_clean.permute(1,2,0).clamp(0,1).numpy()\n",
        "adv_img   = x_adv.permute(1,2,0).clamp(0,1).numpy()\n",
        "\n",
        "# --- plot: clean | patch | = | adv ---\n",
        "fig, axes = plt.subplots(1, 3, figsize=(10, 3))\n",
        "\n",
        "axes[0].imshow(clean_img); axes[0].set_title(label_clean); axes[0].axis(\"off\")\n",
        "axes[1].imshow(patch_viz); axes[1].set_title(\"Patch (normalized)\"); axes[1].axis(\"off\")\n",
        "axes[2].imshow(adv_img);   axes[2].set_title(label_adv); axes[2].axis(\"off\")\n",
        "\n",
        "\n",
        "fig.text(0.335, 0.5,  \"+\", fontsize=24, ha=\"center\", va=\"center\")\n",
        "fig.text(0.65, 0.5, \"=\", fontsize=24, ha=\"center\", va=\"center\")\n",
        "\n",
        "plt.tight_layout()\n",
        "plt.show()\n",
        "\n",
        "\n"
      ]
    }
  ],
  "metadata": {
    "colab": {
      "provenance": []
    },
    "kernelspec": {
      "display_name": "Python 3",
      "name": "python3"
    },
    "language_info": {
      "codemirror_mode": {
        "name": "ipython",
        "version": 3
      },
      "file_extension": ".py",
      "mimetype": "text/x-python",
      "name": "python",
      "nbconvert_exporter": "python",
      "pygments_lexer": "ipython3",
      "version": "3.11.13"
    }
  },
  "nbformat": 4,
  "nbformat_minor": 0
}
